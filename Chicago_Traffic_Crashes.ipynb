{
  "nbformat": 4,
  "nbformat_minor": 0,
  "metadata": {
    "colab": {
      "name": "Chicago_Traffic_Crashes.ipynb",
      "provenance": [],
      "mount_file_id": "1m_52WuXK-h6dmSw7CNpv7H6-0c5ErP3t",
      "authorship_tag": "ABX9TyPpZr4VSuz23ToL5gsz/kkL",
      "include_colab_link": true
    },
    "kernelspec": {
      "name": "python3",
      "display_name": "Python 3"
    }
  },
  "cells": [
    {
      "cell_type": "markdown",
      "metadata": {
        "id": "view-in-github",
        "colab_type": "text"
      },
      "source": [
        "<a href=\"https://colab.research.google.com/github/srimantmahapatra/srimant_code_repo_pub/blob/master/Chicago_Traffic_Crashes.ipynb\" target=\"_parent\"><img src=\"https://colab.research.google.com/assets/colab-badge.svg\" alt=\"Open In Colab\"/></a>"
      ]
    },
    {
      "cell_type": "markdown",
      "metadata": {
        "id": "1pK6-juLDpMq"
      },
      "source": [
        "Data Analytics Tasks :\r\n",
        "\r\n",
        "1.Read the CSV files containing the Chicago traffic crash data.\r\n",
        "\r\n",
        "2.Identify the column common to both files and merge them together on that column. Then display the total number of reported crashes.\r\n",
        "\r\n",
        "3.Change the ‘CRASH_DATE’ column to a date format. Drop observations that did not occur in 2017, 2018 or 2019 (other years have incomplete data).\r\n",
        "\r\n",
        "4.Display a plot showing the number of crashes that occur for each hour of the day.\r\n",
        "\r\n",
        "5.Name the make of vehicle that was involved in the most daylight crashes in August 2018. Remember that a crash can involve multiple vehicles.\r\n",
        "\r\n",
        "6.Determine which weather condition was most prevalent for each type of crash.\r\n",
        "\r\n",
        "7.Plot the primary contributing cause of reported crashes, from highest to lowest.\r\n",
        "\r\n",
        "8.Display the 10 state license plates involved in the most crashes. Remember that a crash can involve multiple vehicles.\r\n",
        "\r\n",
        "9.Display the proportion of crashes in each month of 2019 where alcohol was determined to be the primary contributing cause.\r\n",
        "\r\n",
        "10.Determine whether snowmobiles or recreational off-highway vehicles were involved in more crashes.\r\n",
        "\r\n",
        "11.Display a cluster map showing the locations of crashes involving a hit and run. (Not completed as GPU not supporting)"
      ]
    },
    {
      "cell_type": "markdown",
      "metadata": {
        "id": "xOV5CQ1UScMQ"
      },
      "source": [
        ""
      ]
    },
    {
      "cell_type": "markdown",
      "metadata": {
        "id": "YFJPvwgdDj1T"
      },
      "source": [
        "**IMPORT THE NECESSARY LIBRARIES**"
      ]
    },
    {
      "cell_type": "code",
      "metadata": {
        "colab": {
          "base_uri": "https://localhost:8080/",
          "height": 51
        },
        "id": "f5zY8Bb4Cu5D",
        "outputId": "4fa2e17e-1744-4bab-e980-247df0c08a94"
      },
      "source": [
        "# Importing the libraries\r\n",
        "import pandas as pd\r\n",
        "import seaborn as sns\r\n",
        "import matplotlib.pyplot as plt\r\n",
        "import numpy as np\r\n",
        "import seaborn as sns\r\n",
        "sns.set_theme(style='darkgrid')\r\n",
        "# Comment this if the data visualisations doesn't work on your side\r\n",
        "%matplotlib inline\r\n",
        "plt.style.use('ggplot')\r\n",
        "pd.options.display.max_rows = 4000\r\n",
        "pd.options.display.max_columns = 4000\r\n",
        "np.set_printoptions(threshold=np.inf)\r\n",
        "plt.figure(figsize=(30, 30))"
      ],
      "execution_count": 81,
      "outputs": [
        {
          "output_type": "execute_result",
          "data": {
            "text/plain": [
              "<Figure size 2160x2160 with 0 Axes>"
            ]
          },
          "metadata": {
            "tags": []
          },
          "execution_count": 81
        },
        {
          "output_type": "display_data",
          "data": {
            "text/plain": [
              "<Figure size 2160x2160 with 0 Axes>"
            ]
          },
          "metadata": {
            "tags": []
          }
        }
      ]
    },
    {
      "cell_type": "code",
      "metadata": {
        "id": "raC99CgFLAOv"
      },
      "source": [
        ""
      ],
      "execution_count": null,
      "outputs": []
    },
    {
      "cell_type": "markdown",
      "metadata": {
        "id": "11lJG_hzEW4j"
      },
      "source": [
        "IMPORT DATA FROM GOOGLE DRIVE \r\n"
      ]
    },
    {
      "cell_type": "code",
      "metadata": {
        "id": "ZMYrNGqJEgHp"
      },
      "source": [
        "df_crashes = pd.read_csv('/content/drive/MyDrive/ML/ Chicago_Traffic_Crashes/crashes.csv')\r\n",
        "df_vehicles =pd.read_csv('/content/drive/MyDrive/ML/ Chicago_Traffic_Crashes/crashes_vehicles.csv').drop('CRASH_DATE', axis=1)"
      ],
      "execution_count": 88,
      "outputs": []
    },
    {
      "cell_type": "code",
      "metadata": {
        "colab": {
          "base_uri": "https://localhost:8080/",
          "height": 165
        },
        "id": "nXHgF2v2E_sI",
        "outputId": "638fb689-0250-41e3-da36-39d34fdbd6b2"
      },
      "source": [
        "df_crashes.head(2)\r\n"
      ],
      "execution_count": 13,
      "outputs": [
        {
          "output_type": "execute_result",
          "data": {
            "text/html": [
              "<div>\n",
              "<style scoped>\n",
              "    .dataframe tbody tr th:only-of-type {\n",
              "        vertical-align: middle;\n",
              "    }\n",
              "\n",
              "    .dataframe tbody tr th {\n",
              "        vertical-align: top;\n",
              "    }\n",
              "\n",
              "    .dataframe thead th {\n",
              "        text-align: right;\n",
              "    }\n",
              "</style>\n",
              "<table border=\"1\" class=\"dataframe\">\n",
              "  <thead>\n",
              "    <tr style=\"text-align: right;\">\n",
              "      <th></th>\n",
              "      <th>CRASH_RECORD_ID</th>\n",
              "      <th>CRASH_DATE</th>\n",
              "      <th>WEATHER_CONDITION</th>\n",
              "      <th>LIGHTING_CONDITION</th>\n",
              "      <th>FIRST_CRASH_TYPE</th>\n",
              "      <th>HIT_AND_RUN_I</th>\n",
              "      <th>PRIM_CONTRIBUTORY_CAUSE</th>\n",
              "      <th>LATITUDE</th>\n",
              "      <th>LONGITUDE</th>\n",
              "    </tr>\n",
              "  </thead>\n",
              "  <tbody>\n",
              "    <tr>\n",
              "      <th>0</th>\n",
              "      <td>4fd0a3e0897b3335b94cd8d5b2d2b350eb691add56c62d...</td>\n",
              "      <td>7/10/2019 17:56</td>\n",
              "      <td>CLEAR</td>\n",
              "      <td>DAYLIGHT</td>\n",
              "      <td>TURNING</td>\n",
              "      <td>NaN</td>\n",
              "      <td>IMPROPER BACKING</td>\n",
              "      <td>41.919664</td>\n",
              "      <td>-87.773288</td>\n",
              "    </tr>\n",
              "    <tr>\n",
              "      <th>1</th>\n",
              "      <td>009e9e67203442370272e1a13d6ee51a4155dac65e583d...</td>\n",
              "      <td>6/30/2017 16:00</td>\n",
              "      <td>CLEAR</td>\n",
              "      <td>DAYLIGHT</td>\n",
              "      <td>TURNING</td>\n",
              "      <td>NaN</td>\n",
              "      <td>FAILING TO YIELD RIGHT-OF-WAY</td>\n",
              "      <td>41.741804</td>\n",
              "      <td>-87.740954</td>\n",
              "    </tr>\n",
              "  </tbody>\n",
              "</table>\n",
              "</div>"
            ],
            "text/plain": [
              "                                     CRASH_RECORD_ID       CRASH_DATE  \\\n",
              "0  4fd0a3e0897b3335b94cd8d5b2d2b350eb691add56c62d...  7/10/2019 17:56   \n",
              "1  009e9e67203442370272e1a13d6ee51a4155dac65e583d...  6/30/2017 16:00   \n",
              "\n",
              "  WEATHER_CONDITION LIGHTING_CONDITION FIRST_CRASH_TYPE HIT_AND_RUN_I  \\\n",
              "0             CLEAR           DAYLIGHT          TURNING           NaN   \n",
              "1             CLEAR           DAYLIGHT          TURNING           NaN   \n",
              "\n",
              "         PRIM_CONTRIBUTORY_CAUSE   LATITUDE  LONGITUDE  \n",
              "0               IMPROPER BACKING  41.919664 -87.773288  \n",
              "1  FAILING TO YIELD RIGHT-OF-WAY  41.741804 -87.740954  "
            ]
          },
          "metadata": {
            "tags": []
          },
          "execution_count": 13
        }
      ]
    },
    {
      "cell_type": "code",
      "metadata": {
        "colab": {
          "base_uri": "https://localhost:8080/"
        },
        "id": "fuP38DgHHvwT",
        "outputId": "8804937e-7c8d-4531-bacf-1668fe3007ef"
      },
      "source": [
        "df_crashes.info()"
      ],
      "execution_count": 24,
      "outputs": [
        {
          "output_type": "stream",
          "text": [
            "<class 'pandas.core.frame.DataFrame'>\n",
            "RangeIndex: 474262 entries, 0 to 474261\n",
            "Data columns (total 9 columns):\n",
            " #   Column                   Non-Null Count   Dtype  \n",
            "---  ------                   --------------   -----  \n",
            " 0   CRASH_RECORD_ID          474262 non-null  object \n",
            " 1   CRASH_DATE               474262 non-null  object \n",
            " 2   WEATHER_CONDITION        474262 non-null  object \n",
            " 3   LIGHTING_CONDITION       474262 non-null  object \n",
            " 4   FIRST_CRASH_TYPE         474262 non-null  object \n",
            " 5   HIT_AND_RUN_I            138818 non-null  object \n",
            " 6   PRIM_CONTRIBUTORY_CAUSE  474262 non-null  object \n",
            " 7   LATITUDE                 471658 non-null  float64\n",
            " 8   LONGITUDE                471658 non-null  float64\n",
            "dtypes: float64(2), object(7)\n",
            "memory usage: 32.6+ MB\n"
          ],
          "name": "stdout"
        }
      ]
    },
    {
      "cell_type": "code",
      "metadata": {
        "colab": {
          "base_uri": "https://localhost:8080/",
          "height": 111
        },
        "id": "R1dsfyTSFa8a",
        "outputId": "47077a1f-d0ec-4535-8b13-92fcf245007f"
      },
      "source": [
        "\r\n",
        "df_vehicles.head(2)\r\n"
      ],
      "execution_count": 16,
      "outputs": [
        {
          "output_type": "execute_result",
          "data": {
            "text/html": [
              "<div>\n",
              "<style scoped>\n",
              "    .dataframe tbody tr th:only-of-type {\n",
              "        vertical-align: middle;\n",
              "    }\n",
              "\n",
              "    .dataframe tbody tr th {\n",
              "        vertical-align: top;\n",
              "    }\n",
              "\n",
              "    .dataframe thead th {\n",
              "        text-align: right;\n",
              "    }\n",
              "</style>\n",
              "<table border=\"1\" class=\"dataframe\">\n",
              "  <thead>\n",
              "    <tr style=\"text-align: right;\">\n",
              "      <th></th>\n",
              "      <th>CRASH_RECORD_ID</th>\n",
              "      <th>VEHICLE_ID</th>\n",
              "      <th>MAKE</th>\n",
              "      <th>LIC_PLATE_STATE</th>\n",
              "      <th>VEHICLE_TYPE</th>\n",
              "    </tr>\n",
              "  </thead>\n",
              "  <tbody>\n",
              "    <tr>\n",
              "      <th>0</th>\n",
              "      <td>24ddf9fd8542199d832e1c223cc474e5601b356f1d77a6...</td>\n",
              "      <td>796949.0</td>\n",
              "      <td>INFINITI</td>\n",
              "      <td>IL</td>\n",
              "      <td>PASSENGER</td>\n",
              "    </tr>\n",
              "    <tr>\n",
              "      <th>1</th>\n",
              "      <td>81dc0de2ed92aa62baccab641fa377be7feb1cc47e6554...</td>\n",
              "      <td>834816.0</td>\n",
              "      <td>HONDA</td>\n",
              "      <td>IL</td>\n",
              "      <td>PASSENGER</td>\n",
              "    </tr>\n",
              "  </tbody>\n",
              "</table>\n",
              "</div>"
            ],
            "text/plain": [
              "                                     CRASH_RECORD_ID  VEHICLE_ID      MAKE  \\\n",
              "0  24ddf9fd8542199d832e1c223cc474e5601b356f1d77a6...    796949.0  INFINITI   \n",
              "1  81dc0de2ed92aa62baccab641fa377be7feb1cc47e6554...    834816.0     HONDA   \n",
              "\n",
              "  LIC_PLATE_STATE VEHICLE_TYPE  \n",
              "0              IL    PASSENGER  \n",
              "1              IL    PASSENGER  "
            ]
          },
          "metadata": {
            "tags": []
          },
          "execution_count": 16
        }
      ]
    },
    {
      "cell_type": "code",
      "metadata": {
        "colab": {
          "base_uri": "https://localhost:8080/"
        },
        "id": "tuomIL37H008",
        "outputId": "8b559667-cbb7-4045-e086-eb428f64d0e4"
      },
      "source": [
        "df_vehicles.info()"
      ],
      "execution_count": 25,
      "outputs": [
        {
          "output_type": "stream",
          "text": [
            "<class 'pandas.core.frame.DataFrame'>\n",
            "RangeIndex: 968023 entries, 0 to 968022\n",
            "Data columns (total 5 columns):\n",
            " #   Column           Non-Null Count   Dtype  \n",
            "---  ------           --------------   -----  \n",
            " 0   CRASH_RECORD_ID  968023 non-null  object \n",
            " 1   VEHICLE_ID       945532 non-null  float64\n",
            " 2   MAKE             945527 non-null  object \n",
            " 3   LIC_PLATE_STATE  865792 non-null  object \n",
            " 4   VEHICLE_TYPE     945532 non-null  object \n",
            "dtypes: float64(1), object(4)\n",
            "memory usage: 36.9+ MB\n"
          ],
          "name": "stdout"
        }
      ]
    },
    {
      "cell_type": "code",
      "metadata": {
        "id": "s3ZQKoxzFefp"
      },
      "source": [
        "df=pd.merge(df_crashes,df_vehicles,on='CRASH_RECORD_ID').reset_index()"
      ],
      "execution_count": 85,
      "outputs": []
    },
    {
      "cell_type": "code",
      "metadata": {
        "colab": {
          "base_uri": "https://localhost:8080/"
        },
        "id": "iu_hPaRmGytT",
        "outputId": "45845522-5845-422c-d990-b24ea59edc4f"
      },
      "source": [
        "df.info()"
      ],
      "execution_count": 21,
      "outputs": [
        {
          "output_type": "stream",
          "text": [
            "<class 'pandas.core.frame.DataFrame'>\n",
            "RangeIndex: 968023 entries, 0 to 968022\n",
            "Data columns (total 14 columns):\n",
            " #   Column                   Non-Null Count   Dtype  \n",
            "---  ------                   --------------   -----  \n",
            " 0   index                    968023 non-null  int64  \n",
            " 1   CRASH_RECORD_ID          968023 non-null  object \n",
            " 2   CRASH_DATE               968023 non-null  object \n",
            " 3   WEATHER_CONDITION        968023 non-null  object \n",
            " 4   LIGHTING_CONDITION       968023 non-null  object \n",
            " 5   FIRST_CRASH_TYPE         968023 non-null  object \n",
            " 6   HIT_AND_RUN_I            289254 non-null  object \n",
            " 7   PRIM_CONTRIBUTORY_CAUSE  968023 non-null  object \n",
            " 8   LATITUDE                 962859 non-null  float64\n",
            " 9   LONGITUDE                962859 non-null  float64\n",
            " 10  VEHICLE_ID               945532 non-null  float64\n",
            " 11  MAKE                     945527 non-null  object \n",
            " 12  LIC_PLATE_STATE          865792 non-null  object \n",
            " 13  VEHICLE_TYPE             945532 non-null  object \n",
            "dtypes: float64(3), int64(1), object(10)\n",
            "memory usage: 103.4+ MB\n"
          ],
          "name": "stdout"
        }
      ]
    },
    {
      "cell_type": "code",
      "metadata": {
        "colab": {
          "base_uri": "https://localhost:8080/"
        },
        "id": "arVCMGhGH_KT",
        "outputId": "1bb24b27-2620-4fdc-ba19-26290a3913b5"
      },
      "source": [
        "print (  'Total Number of Reported crashes is '+ str(df['CRASH_RECORD_ID'].nunique()))"
      ],
      "execution_count": 86,
      "outputs": [
        {
          "output_type": "stream",
          "text": [
            "Total Number of Reported crashes is 474262\n"
          ],
          "name": "stdout"
        }
      ]
    },
    {
      "cell_type": "code",
      "metadata": {
        "id": "uMIUE8--JuLi"
      },
      "source": [
        "df['CRASH_DATE'] = pd.to_datetime(df['CRASH_DATE'])\r\n",
        "df_crashes['CRASH_DATE'] = pd.to_datetime(df['CRASH_DATE'])"
      ],
      "execution_count": 90,
      "outputs": []
    },
    {
      "cell_type": "code",
      "metadata": {
        "id": "jvCdnWsFKXWw"
      },
      "source": [
        "df = df[(df['CRASH_DATE'] >= '2018-01-01') & (df['CRASH_DATE'] <= '2020-12-31')]"
      ],
      "execution_count": 69,
      "outputs": []
    },
    {
      "cell_type": "code",
      "metadata": {
        "colab": {
          "base_uri": "https://localhost:8080/",
          "height": 309
        },
        "id": "K8xPXy99KqfQ",
        "outputId": "ad63b4d6-c4f0-4fcc-9f2a-c1f6b3dfec1d"
      },
      "source": [
        "df.head(5)"
      ],
      "execution_count": 70,
      "outputs": [
        {
          "output_type": "execute_result",
          "data": {
            "text/html": [
              "<div>\n",
              "<style scoped>\n",
              "    .dataframe tbody tr th:only-of-type {\n",
              "        vertical-align: middle;\n",
              "    }\n",
              "\n",
              "    .dataframe tbody tr th {\n",
              "        vertical-align: top;\n",
              "    }\n",
              "\n",
              "    .dataframe thead th {\n",
              "        text-align: right;\n",
              "    }\n",
              "</style>\n",
              "<table border=\"1\" class=\"dataframe\">\n",
              "  <thead>\n",
              "    <tr style=\"text-align: right;\">\n",
              "      <th></th>\n",
              "      <th>index</th>\n",
              "      <th>CRASH_RECORD_ID</th>\n",
              "      <th>CRASH_DATE</th>\n",
              "      <th>WEATHER_CONDITION</th>\n",
              "      <th>LIGHTING_CONDITION</th>\n",
              "      <th>FIRST_CRASH_TYPE</th>\n",
              "      <th>HIT_AND_RUN_I</th>\n",
              "      <th>PRIM_CONTRIBUTORY_CAUSE</th>\n",
              "      <th>LATITUDE</th>\n",
              "      <th>LONGITUDE</th>\n",
              "      <th>VEHICLE_ID</th>\n",
              "      <th>MAKE</th>\n",
              "      <th>LIC_PLATE_STATE</th>\n",
              "      <th>VEHICLE_TYPE</th>\n",
              "      <th>Hour</th>\n",
              "    </tr>\n",
              "  </thead>\n",
              "  <tbody>\n",
              "    <tr>\n",
              "      <th>0</th>\n",
              "      <td>0</td>\n",
              "      <td>4fd0a3e0897b3335b94cd8d5b2d2b350eb691add56c62d...</td>\n",
              "      <td>2019-07-10 17:56:00</td>\n",
              "      <td>CLEAR</td>\n",
              "      <td>DAYLIGHT</td>\n",
              "      <td>TURNING</td>\n",
              "      <td>NaN</td>\n",
              "      <td>IMPROPER BACKING</td>\n",
              "      <td>41.919664</td>\n",
              "      <td>-87.773288</td>\n",
              "      <td>656940.0</td>\n",
              "      <td>GEO</td>\n",
              "      <td>IL</td>\n",
              "      <td>PASSENGER</td>\n",
              "      <td>17</td>\n",
              "    </tr>\n",
              "    <tr>\n",
              "      <th>1</th>\n",
              "      <td>1</td>\n",
              "      <td>4fd0a3e0897b3335b94cd8d5b2d2b350eb691add56c62d...</td>\n",
              "      <td>2019-07-10 17:56:00</td>\n",
              "      <td>CLEAR</td>\n",
              "      <td>DAYLIGHT</td>\n",
              "      <td>TURNING</td>\n",
              "      <td>NaN</td>\n",
              "      <td>IMPROPER BACKING</td>\n",
              "      <td>41.919664</td>\n",
              "      <td>-87.773288</td>\n",
              "      <td>656945.0</td>\n",
              "      <td>NISSAN</td>\n",
              "      <td>IL</td>\n",
              "      <td>PASSENGER</td>\n",
              "      <td>17</td>\n",
              "    </tr>\n",
              "    <tr>\n",
              "      <th>4</th>\n",
              "      <td>4</td>\n",
              "      <td>ee9283eff3a55ac50ee58f3d9528ce1d689b1c4180b4c4...</td>\n",
              "      <td>2020-07-10 10:25:00</td>\n",
              "      <td>CLEAR</td>\n",
              "      <td>DAYLIGHT</td>\n",
              "      <td>REAR END</td>\n",
              "      <td>NaN</td>\n",
              "      <td>FAILING TO YIELD RIGHT-OF-WAY</td>\n",
              "      <td>41.773456</td>\n",
              "      <td>-87.585022</td>\n",
              "      <td>867994.0</td>\n",
              "      <td>TOYOTA</td>\n",
              "      <td>IL</td>\n",
              "      <td>PASSENGER</td>\n",
              "      <td>10</td>\n",
              "    </tr>\n",
              "    <tr>\n",
              "      <th>5</th>\n",
              "      <td>5</td>\n",
              "      <td>ee9283eff3a55ac50ee58f3d9528ce1d689b1c4180b4c4...</td>\n",
              "      <td>2020-07-10 10:25:00</td>\n",
              "      <td>CLEAR</td>\n",
              "      <td>DAYLIGHT</td>\n",
              "      <td>REAR END</td>\n",
              "      <td>NaN</td>\n",
              "      <td>FAILING TO YIELD RIGHT-OF-WAY</td>\n",
              "      <td>41.773456</td>\n",
              "      <td>-87.585022</td>\n",
              "      <td>868000.0</td>\n",
              "      <td>OLDSMOBILE</td>\n",
              "      <td>IL</td>\n",
              "      <td>PASSENGER</td>\n",
              "      <td>10</td>\n",
              "    </tr>\n",
              "    <tr>\n",
              "      <th>6</th>\n",
              "      <td>6</td>\n",
              "      <td>ee9283eff3a55ac50ee58f3d9528ce1d689b1c4180b4c4...</td>\n",
              "      <td>2020-07-10 10:25:00</td>\n",
              "      <td>CLEAR</td>\n",
              "      <td>DAYLIGHT</td>\n",
              "      <td>REAR END</td>\n",
              "      <td>NaN</td>\n",
              "      <td>FAILING TO YIELD RIGHT-OF-WAY</td>\n",
              "      <td>41.773456</td>\n",
              "      <td>-87.585022</td>\n",
              "      <td>868009.0</td>\n",
              "      <td>CHRYSLER</td>\n",
              "      <td>MI</td>\n",
              "      <td>PASSENGER</td>\n",
              "      <td>10</td>\n",
              "    </tr>\n",
              "  </tbody>\n",
              "</table>\n",
              "</div>"
            ],
            "text/plain": [
              "   index                                    CRASH_RECORD_ID  \\\n",
              "0      0  4fd0a3e0897b3335b94cd8d5b2d2b350eb691add56c62d...   \n",
              "1      1  4fd0a3e0897b3335b94cd8d5b2d2b350eb691add56c62d...   \n",
              "4      4  ee9283eff3a55ac50ee58f3d9528ce1d689b1c4180b4c4...   \n",
              "5      5  ee9283eff3a55ac50ee58f3d9528ce1d689b1c4180b4c4...   \n",
              "6      6  ee9283eff3a55ac50ee58f3d9528ce1d689b1c4180b4c4...   \n",
              "\n",
              "           CRASH_DATE WEATHER_CONDITION LIGHTING_CONDITION FIRST_CRASH_TYPE  \\\n",
              "0 2019-07-10 17:56:00             CLEAR           DAYLIGHT          TURNING   \n",
              "1 2019-07-10 17:56:00             CLEAR           DAYLIGHT          TURNING   \n",
              "4 2020-07-10 10:25:00             CLEAR           DAYLIGHT         REAR END   \n",
              "5 2020-07-10 10:25:00             CLEAR           DAYLIGHT         REAR END   \n",
              "6 2020-07-10 10:25:00             CLEAR           DAYLIGHT         REAR END   \n",
              "\n",
              "  HIT_AND_RUN_I        PRIM_CONTRIBUTORY_CAUSE   LATITUDE  LONGITUDE  \\\n",
              "0           NaN               IMPROPER BACKING  41.919664 -87.773288   \n",
              "1           NaN               IMPROPER BACKING  41.919664 -87.773288   \n",
              "4           NaN  FAILING TO YIELD RIGHT-OF-WAY  41.773456 -87.585022   \n",
              "5           NaN  FAILING TO YIELD RIGHT-OF-WAY  41.773456 -87.585022   \n",
              "6           NaN  FAILING TO YIELD RIGHT-OF-WAY  41.773456 -87.585022   \n",
              "\n",
              "   VEHICLE_ID        MAKE LIC_PLATE_STATE VEHICLE_TYPE  Hour  \n",
              "0    656940.0         GEO              IL    PASSENGER    17  \n",
              "1    656945.0      NISSAN              IL    PASSENGER    17  \n",
              "4    867994.0      TOYOTA              IL    PASSENGER    10  \n",
              "5    868000.0  OLDSMOBILE              IL    PASSENGER    10  \n",
              "6    868009.0    CHRYSLER              MI    PASSENGER    10  "
            ]
          },
          "metadata": {
            "tags": []
          },
          "execution_count": 70
        }
      ]
    },
    {
      "cell_type": "code",
      "metadata": {
        "id": "6eLJCCv9LBmi"
      },
      "source": [
        "df['Hour']=df.CRASH_DATE.dt.hour"
      ],
      "execution_count": 91,
      "outputs": []
    },
    {
      "cell_type": "code",
      "metadata": {
        "colab": {
          "base_uri": "https://localhost:8080/"
        },
        "id": "Xq39qdL_MUjA",
        "outputId": "40235e32-ee0a-4204-93d5-b2875dbef1a4"
      },
      "source": [
        "df.info()"
      ],
      "execution_count": 72,
      "outputs": [
        {
          "output_type": "stream",
          "text": [
            "<class 'pandas.core.frame.DataFrame'>\n",
            "Int64Index: 672831 entries, 0 to 967749\n",
            "Data columns (total 15 columns):\n",
            " #   Column                   Non-Null Count   Dtype         \n",
            "---  ------                   --------------   -----         \n",
            " 0   index                    672831 non-null  int64         \n",
            " 1   CRASH_RECORD_ID          672831 non-null  object        \n",
            " 2   CRASH_DATE               672831 non-null  datetime64[ns]\n",
            " 3   WEATHER_CONDITION        672831 non-null  object        \n",
            " 4   LIGHTING_CONDITION       672831 non-null  object        \n",
            " 5   FIRST_CRASH_TYPE         672831 non-null  object        \n",
            " 6   HIT_AND_RUN_I            205825 non-null  object        \n",
            " 7   PRIM_CONTRIBUTORY_CAUSE  672831 non-null  object        \n",
            " 8   LATITUDE                 668899 non-null  float64       \n",
            " 9   LONGITUDE                668899 non-null  float64       \n",
            " 10  VEHICLE_ID               655675 non-null  float64       \n",
            " 11  MAKE                     655670 non-null  object        \n",
            " 12  LIC_PLATE_STATE          599766 non-null  object        \n",
            " 13  VEHICLE_TYPE             655675 non-null  object        \n",
            " 14  Hour                     672831 non-null  int64         \n",
            "dtypes: datetime64[ns](1), float64(3), int64(2), object(9)\n",
            "memory usage: 82.1+ MB\n"
          ],
          "name": "stdout"
        }
      ]
    },
    {
      "cell_type": "code",
      "metadata": {
        "colab": {
          "base_uri": "https://localhost:8080/",
          "height": 539
        },
        "id": "XSmIWIY0McSH",
        "outputId": "2e2e59f2-b985-4fbf-b360-17a8773e59f6"
      },
      "source": [
        "# Plot number of crashes by hour of day.\r\n",
        "plt.figure(figsize=(15,8))\r\n",
        "s = sns.barplot(data=df.groupby('Hour')['CRASH_RECORD_ID'].nunique().reset_index(), x='Hour', y='CRASH_RECORD_ID', palette='GnBu_r', linewidth=0)\r\n",
        "s.set_title('Hourly Number of Reported Crashes in Chicago (2018 - 2020)', y=1.02, fontsize=14)\r\n",
        "s.set_xlabel('Hour of Day', fontsize=13, labelpad=15)\r\n",
        "s.set_ylabel('Number of Crashes', fontsize=13, labelpad=15)\r\n",
        "plt.show()"
      ],
      "execution_count": 53,
      "outputs": [
        {
          "output_type": "display_data",
          "data": {
            "image/png": "[encoded data removed]",
            "text/plain": [
              "<Figure size 1080x576 with 1 Axes>"
            ]
          },
          "metadata": {
            "tags": []
          }
        }
      ]
    },
    {
      "cell_type": "code",
      "metadata": {
        "colab": {
          "base_uri": "https://localhost:8080/"
        },
        "id": "dJVkP1n7M69_",
        "outputId": "9a7986b6-86e5-4226-f18d-b1de57f7532f"
      },
      "source": [
        "# Subset the DataFrame for crashes that occurred during daylight.\r\n",
        "df_daylight = df[df['LIGHTING_CONDITION'] == 'DAYLIGHT']\r\n",
        "\r\n",
        "# Determine the make of vehicle involved in the most crashes.\r\n",
        "df_daylight['MAKE'].value_counts().nlargest(1)"
      ],
      "execution_count": 54,
      "outputs": [
        {
          "output_type": "execute_result",
          "data": {
            "text/plain": [
              "CHEVROLET    49779\n",
              "Name: MAKE, dtype: int64"
            ]
          },
          "metadata": {
            "tags": []
          },
          "execution_count": 54
        }
      ]
    },
    {
      "cell_type": "code",
      "metadata": {
        "colab": {
          "base_uri": "https://localhost:8080/",
          "height": 607
        },
        "id": "kJC-6C3lNCbf",
        "outputId": "da1a9e70-5321-431f-d211-320b3dcc2e94"
      },
      "source": [
        "df_crashes.groupby('FIRST_CRASH_TYPE')['WEATHER_CONDITION'].apply(lambda x: x.value_counts().head(1)).reset_index(name='COUNT').rename(columns={'level_1': 'WEATHER'})"
      ],
      "execution_count": 56,
      "outputs": [
        {
          "output_type": "execute_result",
          "data": {
            "text/html": [
              "<div>\n",
              "<style scoped>\n",
              "    .dataframe tbody tr th:only-of-type {\n",
              "        vertical-align: middle;\n",
              "    }\n",
              "\n",
              "    .dataframe tbody tr th {\n",
              "        vertical-align: top;\n",
              "    }\n",
              "\n",
              "    .dataframe thead th {\n",
              "        text-align: right;\n",
              "    }\n",
              "</style>\n",
              "<table border=\"1\" class=\"dataframe\">\n",
              "  <thead>\n",
              "    <tr style=\"text-align: right;\">\n",
              "      <th></th>\n",
              "      <th>FIRST_CRASH_TYPE</th>\n",
              "      <th>WEATHER</th>\n",
              "      <th>COUNT</th>\n",
              "    </tr>\n",
              "  </thead>\n",
              "  <tbody>\n",
              "    <tr>\n",
              "      <th>0</th>\n",
              "      <td>ANGLE</td>\n",
              "      <td>CLEAR</td>\n",
              "      <td>39988</td>\n",
              "    </tr>\n",
              "    <tr>\n",
              "      <th>1</th>\n",
              "      <td>ANIMAL</td>\n",
              "      <td>CLEAR</td>\n",
              "      <td>282</td>\n",
              "    </tr>\n",
              "    <tr>\n",
              "      <th>2</th>\n",
              "      <td>FIXED OBJECT</td>\n",
              "      <td>CLEAR</td>\n",
              "      <td>15972</td>\n",
              "    </tr>\n",
              "    <tr>\n",
              "      <th>3</th>\n",
              "      <td>HEAD ON</td>\n",
              "      <td>CLEAR</td>\n",
              "      <td>3145</td>\n",
              "    </tr>\n",
              "    <tr>\n",
              "      <th>4</th>\n",
              "      <td>OTHER NONCOLLISION</td>\n",
              "      <td>CLEAR</td>\n",
              "      <td>1174</td>\n",
              "    </tr>\n",
              "    <tr>\n",
              "      <th>5</th>\n",
              "      <td>OTHER OBJECT</td>\n",
              "      <td>CLEAR</td>\n",
              "      <td>3370</td>\n",
              "    </tr>\n",
              "    <tr>\n",
              "      <th>6</th>\n",
              "      <td>OVERTURNED</td>\n",
              "      <td>CLEAR</td>\n",
              "      <td>196</td>\n",
              "    </tr>\n",
              "    <tr>\n",
              "      <th>7</th>\n",
              "      <td>PARKED MOTOR VEHICLE</td>\n",
              "      <td>CLEAR</td>\n",
              "      <td>83117</td>\n",
              "    </tr>\n",
              "    <tr>\n",
              "      <th>8</th>\n",
              "      <td>PEDALCYCLIST</td>\n",
              "      <td>CLEAR</td>\n",
              "      <td>6066</td>\n",
              "    </tr>\n",
              "    <tr>\n",
              "      <th>9</th>\n",
              "      <td>PEDESTRIAN</td>\n",
              "      <td>CLEAR</td>\n",
              "      <td>8479</td>\n",
              "    </tr>\n",
              "    <tr>\n",
              "      <th>10</th>\n",
              "      <td>REAR END</td>\n",
              "      <td>CLEAR</td>\n",
              "      <td>89429</td>\n",
              "    </tr>\n",
              "    <tr>\n",
              "      <th>11</th>\n",
              "      <td>REAR TO FRONT</td>\n",
              "      <td>CLEAR</td>\n",
              "      <td>2133</td>\n",
              "    </tr>\n",
              "    <tr>\n",
              "      <th>12</th>\n",
              "      <td>REAR TO REAR</td>\n",
              "      <td>CLEAR</td>\n",
              "      <td>491</td>\n",
              "    </tr>\n",
              "    <tr>\n",
              "      <th>13</th>\n",
              "      <td>REAR TO SIDE</td>\n",
              "      <td>CLEAR</td>\n",
              "      <td>1325</td>\n",
              "    </tr>\n",
              "    <tr>\n",
              "      <th>14</th>\n",
              "      <td>SIDESWIPE OPPOSITE DIRECTION</td>\n",
              "      <td>CLEAR</td>\n",
              "      <td>5628</td>\n",
              "    </tr>\n",
              "    <tr>\n",
              "      <th>15</th>\n",
              "      <td>SIDESWIPE SAME DIRECTION</td>\n",
              "      <td>CLEAR</td>\n",
              "      <td>60936</td>\n",
              "    </tr>\n",
              "    <tr>\n",
              "      <th>16</th>\n",
              "      <td>TRAIN</td>\n",
              "      <td>CLEAR</td>\n",
              "      <td>27</td>\n",
              "    </tr>\n",
              "    <tr>\n",
              "      <th>17</th>\n",
              "      <td>TURNING</td>\n",
              "      <td>CLEAR</td>\n",
              "      <td>53632</td>\n",
              "    </tr>\n",
              "  </tbody>\n",
              "</table>\n",
              "</div>"
            ],
            "text/plain": [
              "                FIRST_CRASH_TYPE WEATHER  COUNT\n",
              "0                          ANGLE   CLEAR  39988\n",
              "1                         ANIMAL   CLEAR    282\n",
              "2                   FIXED OBJECT   CLEAR  15972\n",
              "3                        HEAD ON   CLEAR   3145\n",
              "4             OTHER NONCOLLISION   CLEAR   1174\n",
              "5                   OTHER OBJECT   CLEAR   3370\n",
              "6                     OVERTURNED   CLEAR    196\n",
              "7           PARKED MOTOR VEHICLE   CLEAR  83117\n",
              "8                   PEDALCYCLIST   CLEAR   6066\n",
              "9                     PEDESTRIAN   CLEAR   8479\n",
              "10                      REAR END   CLEAR  89429\n",
              "11                 REAR TO FRONT   CLEAR   2133\n",
              "12                  REAR TO REAR   CLEAR    491\n",
              "13                  REAR TO SIDE   CLEAR   1325\n",
              "14  SIDESWIPE OPPOSITE DIRECTION   CLEAR   5628\n",
              "15      SIDESWIPE SAME DIRECTION   CLEAR  60936\n",
              "16                         TRAIN   CLEAR     27\n",
              "17                       TURNING   CLEAR  53632"
            ]
          },
          "metadata": {
            "tags": []
          },
          "execution_count": 56
        }
      ]
    },
    {
      "cell_type": "code",
      "metadata": {
        "colab": {
          "base_uri": "https://localhost:8080/",
          "height": 620
        },
        "id": "OxF7EsGMNZ8w",
        "outputId": "4312b3c7-cbe1-49c0-a2a1-977c061cb2bc"
      },
      "source": [
        "# Display a plot showing the primary contributing cause of reported crashes.\r\n",
        "plt.figure(figsize=(15, 15))\r\n",
        "sns.countplot(data=df_crashes,  y='PRIM_CONTRIBUTORY_CAUSE', order = df_crashes['PRIM_CONTRIBUTORY_CAUSE'].value_counts().index)\r\n",
        "plt.title('Primary Contributing Cause of Reported Crashes in Chicago (2018 - 2020) ', y=1.01, fontsize=14)\r\n",
        "plt.xlabel('Number of Crashes', fontsize=13, labelpad=15)\r\n",
        "plt.ylabel('Primary Contributing Cause', fontsize=13, labelpad=15)\r\n",
        "plt.show();"
      ],
      "execution_count": 57,
      "outputs": [
        {
          "output_type": "display_data",
          "data": {
            "image/png": "[encoded data removed]",
            "text/plain": [
              "<Figure size 1080x1080 with 1 Axes>"
            ]
          },
          "metadata": {
            "tags": []
          }
        }
      ]
    },
    {
      "cell_type": "code",
      "metadata": {
        "colab": {
          "base_uri": "https://localhost:8080/",
          "height": 359
        },
        "id": "KbHSRat_NjRf",
        "outputId": "cd8d7880-d9cf-44b4-f27c-81f2a1d05c62"
      },
      "source": [
        "df.groupby('LIC_PLATE_STATE')['VEHICLE_ID'].count().nlargest(10).reset_index(name='COUNT')"
      ],
      "execution_count": 58,
      "outputs": [
        {
          "output_type": "execute_result",
          "data": {
            "text/html": [
              "<div>\n",
              "<style scoped>\n",
              "    .dataframe tbody tr th:only-of-type {\n",
              "        vertical-align: middle;\n",
              "    }\n",
              "\n",
              "    .dataframe tbody tr th {\n",
              "        vertical-align: top;\n",
              "    }\n",
              "\n",
              "    .dataframe thead th {\n",
              "        text-align: right;\n",
              "    }\n",
              "</style>\n",
              "<table border=\"1\" class=\"dataframe\">\n",
              "  <thead>\n",
              "    <tr style=\"text-align: right;\">\n",
              "      <th></th>\n",
              "      <th>LIC_PLATE_STATE</th>\n",
              "      <th>COUNT</th>\n",
              "    </tr>\n",
              "  </thead>\n",
              "  <tbody>\n",
              "    <tr>\n",
              "      <th>0</th>\n",
              "      <td>IL</td>\n",
              "      <td>550630</td>\n",
              "    </tr>\n",
              "    <tr>\n",
              "      <th>1</th>\n",
              "      <td>XX</td>\n",
              "      <td>12128</td>\n",
              "    </tr>\n",
              "    <tr>\n",
              "      <th>2</th>\n",
              "      <td>IN</td>\n",
              "      <td>11914</td>\n",
              "    </tr>\n",
              "    <tr>\n",
              "      <th>3</th>\n",
              "      <td>WI</td>\n",
              "      <td>3793</td>\n",
              "    </tr>\n",
              "    <tr>\n",
              "      <th>4</th>\n",
              "      <td>MI</td>\n",
              "      <td>2554</td>\n",
              "    </tr>\n",
              "    <tr>\n",
              "      <th>5</th>\n",
              "      <td>FL</td>\n",
              "      <td>1802</td>\n",
              "    </tr>\n",
              "    <tr>\n",
              "      <th>6</th>\n",
              "      <td>TX</td>\n",
              "      <td>1739</td>\n",
              "    </tr>\n",
              "    <tr>\n",
              "      <th>7</th>\n",
              "      <td>OH</td>\n",
              "      <td>1516</td>\n",
              "    </tr>\n",
              "    <tr>\n",
              "      <th>8</th>\n",
              "      <td>AZ</td>\n",
              "      <td>1333</td>\n",
              "    </tr>\n",
              "    <tr>\n",
              "      <th>9</th>\n",
              "      <td>IA</td>\n",
              "      <td>1121</td>\n",
              "    </tr>\n",
              "  </tbody>\n",
              "</table>\n",
              "</div>"
            ],
            "text/plain": [
              "  LIC_PLATE_STATE   COUNT\n",
              "0              IL  550630\n",
              "1              XX   12128\n",
              "2              IN   11914\n",
              "3              WI    3793\n",
              "4              MI    2554\n",
              "5              FL    1802\n",
              "6              TX    1739\n",
              "7              OH    1516\n",
              "8              AZ    1333\n",
              "9              IA    1121"
            ]
          },
          "metadata": {
            "tags": []
          },
          "execution_count": 58
        }
      ]
    },
    {
      "cell_type": "code",
      "metadata": {
        "colab": {
          "base_uri": "https://localhost:8080/",
          "height": 421
        },
        "id": "UPG5Wpk1Np44",
        "outputId": "6fe4d19c-0b8e-491d-dac0-858129e8731f"
      },
      "source": [
        "# Subset to crashes reported in 2019 and count number of crashes per month.\r\n",
        "df_alcohol = df_crashes[(df_crashes['CRASH_DATE'] >= '2019-01-01') & (df_crashes['CRASH_DATE'] <= '2019-12-31')]\r\n",
        "df_total = df_alcohol.groupby(df_alcohol['CRASH_DATE'].dt.strftime('%m'))['CRASH_RECORD_ID'].nunique()\r\n",
        "\r\n",
        "# Subset to crashes with alcohol as the primary contributing cause and count number per month.\r\n",
        "df_alcohol = df_crashes[df_crashes['PRIM_CONTRIBUTORY_CAUSE'].str.contains('ALCOHOL|DRINKING')]\r\n",
        "df_alcohol = df_alcohol.groupby(df_alcohol['CRASH_DATE'].dt.strftime('%m'))['CRASH_RECORD_ID'].nunique()\r\n",
        "\r\n",
        "# Calculate the porportions and display a well formatted result.\r\n",
        "df_proportion = df_alcohol / df_total * 100\r\n",
        "df_proportion.reset_index().rename(columns={'CRASH_DATE': 'MONTH', 'CRASH_RECORD_ID': 'PROPORTION'})"
      ],
      "execution_count": 92,
      "outputs": [
        {
          "output_type": "execute_result",
          "data": {
            "text/html": [
              "<div>\n",
              "<style scoped>\n",
              "    .dataframe tbody tr th:only-of-type {\n",
              "        vertical-align: middle;\n",
              "    }\n",
              "\n",
              "    .dataframe tbody tr th {\n",
              "        vertical-align: top;\n",
              "    }\n",
              "\n",
              "    .dataframe thead th {\n",
              "        text-align: right;\n",
              "    }\n",
              "</style>\n",
              "<table border=\"1\" class=\"dataframe\">\n",
              "  <thead>\n",
              "    <tr style=\"text-align: right;\">\n",
              "      <th></th>\n",
              "      <th>MONTH</th>\n",
              "      <th>PROPORTION</th>\n",
              "    </tr>\n",
              "  </thead>\n",
              "  <tbody>\n",
              "    <tr>\n",
              "      <th>0</th>\n",
              "      <td>01</td>\n",
              "      <td>3.712734</td>\n",
              "    </tr>\n",
              "    <tr>\n",
              "      <th>1</th>\n",
              "      <td>02</td>\n",
              "      <td>2.470187</td>\n",
              "    </tr>\n",
              "    <tr>\n",
              "      <th>2</th>\n",
              "      <td>03</td>\n",
              "      <td>2.208434</td>\n",
              "    </tr>\n",
              "    <tr>\n",
              "      <th>3</th>\n",
              "      <td>04</td>\n",
              "      <td>2.265337</td>\n",
              "    </tr>\n",
              "    <tr>\n",
              "      <th>4</th>\n",
              "      <td>05</td>\n",
              "      <td>2.079304</td>\n",
              "    </tr>\n",
              "    <tr>\n",
              "      <th>5</th>\n",
              "      <td>06</td>\n",
              "      <td>2.285660</td>\n",
              "    </tr>\n",
              "    <tr>\n",
              "      <th>6</th>\n",
              "      <td>07</td>\n",
              "      <td>2.259674</td>\n",
              "    </tr>\n",
              "    <tr>\n",
              "      <th>7</th>\n",
              "      <td>08</td>\n",
              "      <td>2.787247</td>\n",
              "    </tr>\n",
              "    <tr>\n",
              "      <th>8</th>\n",
              "      <td>09</td>\n",
              "      <td>2.955224</td>\n",
              "    </tr>\n",
              "    <tr>\n",
              "      <th>9</th>\n",
              "      <td>10</td>\n",
              "      <td>2.898698</td>\n",
              "    </tr>\n",
              "    <tr>\n",
              "      <th>10</th>\n",
              "      <td>11</td>\n",
              "      <td>2.892478</td>\n",
              "    </tr>\n",
              "    <tr>\n",
              "      <th>11</th>\n",
              "      <td>12</td>\n",
              "      <td>2.904163</td>\n",
              "    </tr>\n",
              "  </tbody>\n",
              "</table>\n",
              "</div>"
            ],
            "text/plain": [
              "   MONTH  PROPORTION\n",
              "0     01    3.712734\n",
              "1     02    2.470187\n",
              "2     03    2.208434\n",
              "3     04    2.265337\n",
              "4     05    2.079304\n",
              "5     06    2.285660\n",
              "6     07    2.259674\n",
              "7     08    2.787247\n",
              "8     09    2.955224\n",
              "9     10    2.898698\n",
              "10    11    2.892478\n",
              "11    12    2.904163"
            ]
          },
          "metadata": {
            "tags": []
          },
          "execution_count": 92
        }
      ]
    },
    {
      "cell_type": "code",
      "metadata": {
        "colab": {
          "base_uri": "https://localhost:8080/"
        },
        "id": "Vg7LfGwtQPES",
        "outputId": "a34b036e-b312-4b92-d17f-486e8eab8c89"
      },
      "source": [
        "print('Number of snowmobiles:', str(len(df[df['VEHICLE_TYPE'] == 'SNOWMOBILE'])))"
      ],
      "execution_count": 76,
      "outputs": [
        {
          "output_type": "stream",
          "text": [
            "Number of snowmobiles: 4\n"
          ],
          "name": "stdout"
        }
      ]
    },
    {
      "cell_type": "code",
      "metadata": {
        "colab": {
          "base_uri": "https://localhost:8080/"
        },
        "id": "f0Ns3LmGQSTH",
        "outputId": "fc643714-f981-45a2-847c-de7143ffb2ee"
      },
      "source": [
        "print('Number of recreational off-highway vehicles:', str(len(df[df['VEHICLE_TYPE'] == 'RECREATIONAL OFF-HIGHWAY VEHICLE (ROV)'])))\r\n"
      ],
      "execution_count": 77,
      "outputs": [
        {
          "output_type": "stream",
          "text": [
            "Number of recreational off-highway vehicles: 6\n"
          ],
          "name": "stdout"
        }
      ]
    }
  ]
}